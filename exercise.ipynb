{
 "cells": [
  {
   "cell_type": "markdown",
   "metadata": {},
   "source": [
    "# Digit Recognizer\n",
    "\n",
    "## Ziel: Alle Basics in einem Projekt\n",
    "\n",
    "Unser Projekt heute ist ein Digit Recognizer. Warum? Das MNIST (\"Modified National Institute of Standards and Technology\") kann als \"hello world!\" Datensatz von Computer Vision betrachtet werden. \n",
    "\n",
    "Euer Ziel ist es, Ziffern aus einem Datensatz von zehntausenden handgeschriebenen Bildern korrekt zu erkennen. Es gibt eine Reihe von Tutorials, die alles von Regression bis zu neuronalen Netzen abdecken. \n",
    "\n",
    "Lasst uns beginnen:"
   ]
  },
  {
   "cell_type": "markdown",
   "metadata": {},
   "source": [
    "# 1. Schritt: Daten importieren"
   ]
  },
  {
   "cell_type": "markdown",
   "metadata": {},
   "source": [
    "Habt ihr bereits eine Umgebung erstellt?\n",
    "\n",
    "Befehle nacheinander im Terminal eingeben\n",
    "\n",
    "- conda create --name PythonInSports python=3.11\n",
    "\n",
    "- conda activate PythonInSports\n",
    "\n",
    "- conda install ipykernel"
   ]
  },
  {
   "cell_type": "markdown",
   "metadata": {},
   "source": [
    "Wir wollen als erstes unsere .csv Datei einlesen und hierfür benötigen wir die pandas Bibliothek. Pandas ist eine Python-Bibliothek zur Datenanalyse und -manipulation.\n",
    "\n",
    "Das heißt: \n",
    "1) Pandas installieren\n",
    "2) Pandas importieren\n",
    "3) Datensatz einlesen\n",
    "\n",
    "Macht euch gerne kurz Gedanken. Lösung folgt. "
   ]
  },
  {
   "cell_type": "code",
   "execution_count": 75,
   "metadata": {},
   "outputs": [],
   "source": [
    "#conda install pandas ins Terminal eingeben um pandas zu installieren\n",
    "import pandas as pd #importiere pandas und nenne es pd. Das ist Standard in der Python Community"
   ]
  },
  {
   "cell_type": "markdown",
   "metadata": {},
   "source": [
    "### Fix the mistakes"
   ]
  },
  {
   "cell_type": "code",
   "execution_count": null,
   "metadata": {},
   "outputs": [],
   "source": [
    "df_sample = pd.read_csv(sample_submission.csv)\n",
    "df_test = pd.read_json(test.csv)\n",
    "df_train = pd.read_csv('train')"
   ]
  },
  {
   "cell_type": "markdown",
   "metadata": {},
   "source": [
    "## Hinweis\n",
    "\n",
    "Ihr stoßt mal auf einen Datensatz der keine .csv Datei ist? Hier ein paar gängige Beispiele:\n",
    "\n",
    "1) data = pd.read_json(\"daten.json\")\n",
    "2) data = pd.read_excel(\"daten.xlsx\", sheet_name=\"Tabelle1\")\n",
    "3) data = pd.read_pickle(\"daten.pkl\")\n",
    "\n",
    "### Was ist .json?\n",
    "JSON (JavaScript Object Notation) ist ein leichtgewichtiges, textbasiertes Datenformat, das häufig für den Datenaustausch zwischen Anwendungen verwendet wird. Es ist einfach zu lesen, strukturiert und wird oft in Web-APIs, Datenbanken und Konfigurationsdateien genutzt.\n",
    "\n",
    "### Was sind Pickle-Dateien?\n",
    "Pickle ist ein binäres Dateiformat, das in Python genutzt wird, um Objekte zu speichern und später wiederzuladen. In Pandas wird es oft verwendet, um DataFrames schnell und speichereffizient zu sichern."
   ]
  },
  {
   "cell_type": "markdown",
   "metadata": {},
   "source": [
    "# 2. Schritt: Mit den Daten vertraut werden. \n",
    "\n",
    "Einer eurer ersten Schritte sollte es immmer sein, sich einmal intensiv mit dem Datensatz vertraut zu machen. "
   ]
  },
  {
   "cell_type": "code",
   "execution_count": 2,
   "metadata": {},
   "outputs": [
    {
     "ename": "NameError",
     "evalue": "name 'df_train' is not defined",
     "output_type": "error",
     "traceback": [
      "\u001b[0;31m---------------------------------------------------------------------------\u001b[0m",
      "\u001b[0;31mNameError\u001b[0m                                 Traceback (most recent call last)",
      "Cell \u001b[0;32mIn[2], line 1\u001b[0m\n\u001b[0;32m----> 1\u001b[0m \u001b[43mdf_train\u001b[49m\u001b[38;5;241m.\u001b[39mhead() \u001b[38;5;66;03m#zeigt die ersten 5 Zeilen des Datensatzes an\u001b[39;00m\n\u001b[1;32m      3\u001b[0m \u001b[38;5;66;03m# Ihr wollt mehr sehen?\u001b[39;00m\n",
      "\u001b[0;31mNameError\u001b[0m: name 'df_train' is not defined"
     ]
    }
   ],
   "source": [
    "df_train.head() #zeigt die ersten 5 Zeilen des Datensatzes an\n",
    "\n",
    "# Ihr wollt mehr sehen?"
   ]
  },
  {
   "cell_type": "code",
   "execution_count": 78,
   "metadata": {},
   "outputs": [
    {
     "data": {
      "text/html": [
       "<div>\n",
       "<style scoped>\n",
       "    .dataframe tbody tr th:only-of-type {\n",
       "        vertical-align: middle;\n",
       "    }\n",
       "\n",
       "    .dataframe tbody tr th {\n",
       "        vertical-align: top;\n",
       "    }\n",
       "\n",
       "    .dataframe thead th {\n",
       "        text-align: right;\n",
       "    }\n",
       "</style>\n",
       "<table border=\"1\" class=\"dataframe\">\n",
       "  <thead>\n",
       "    <tr style=\"text-align: right;\">\n",
       "      <th></th>\n",
       "      <th>label</th>\n",
       "      <th>pixel0</th>\n",
       "      <th>pixel1</th>\n",
       "      <th>pixel2</th>\n",
       "      <th>pixel3</th>\n",
       "      <th>pixel4</th>\n",
       "      <th>pixel5</th>\n",
       "      <th>pixel6</th>\n",
       "      <th>pixel7</th>\n",
       "      <th>pixel8</th>\n",
       "      <th>...</th>\n",
       "      <th>pixel774</th>\n",
       "      <th>pixel775</th>\n",
       "      <th>pixel776</th>\n",
       "      <th>pixel777</th>\n",
       "      <th>pixel778</th>\n",
       "      <th>pixel779</th>\n",
       "      <th>pixel780</th>\n",
       "      <th>pixel781</th>\n",
       "      <th>pixel782</th>\n",
       "      <th>pixel783</th>\n",
       "    </tr>\n",
       "  </thead>\n",
       "  <tbody>\n",
       "    <tr>\n",
       "      <th>0</th>\n",
       "      <td>1</td>\n",
       "      <td>0</td>\n",
       "      <td>0</td>\n",
       "      <td>0</td>\n",
       "      <td>0</td>\n",
       "      <td>0</td>\n",
       "      <td>0</td>\n",
       "      <td>0</td>\n",
       "      <td>0</td>\n",
       "      <td>0</td>\n",
       "      <td>...</td>\n",
       "      <td>0</td>\n",
       "      <td>0</td>\n",
       "      <td>0</td>\n",
       "      <td>0</td>\n",
       "      <td>0</td>\n",
       "      <td>0</td>\n",
       "      <td>0</td>\n",
       "      <td>0</td>\n",
       "      <td>0</td>\n",
       "      <td>0</td>\n",
       "    </tr>\n",
       "    <tr>\n",
       "      <th>1</th>\n",
       "      <td>0</td>\n",
       "      <td>0</td>\n",
       "      <td>0</td>\n",
       "      <td>0</td>\n",
       "      <td>0</td>\n",
       "      <td>0</td>\n",
       "      <td>0</td>\n",
       "      <td>0</td>\n",
       "      <td>0</td>\n",
       "      <td>0</td>\n",
       "      <td>...</td>\n",
       "      <td>0</td>\n",
       "      <td>0</td>\n",
       "      <td>0</td>\n",
       "      <td>0</td>\n",
       "      <td>0</td>\n",
       "      <td>0</td>\n",
       "      <td>0</td>\n",
       "      <td>0</td>\n",
       "      <td>0</td>\n",
       "      <td>0</td>\n",
       "    </tr>\n",
       "    <tr>\n",
       "      <th>2</th>\n",
       "      <td>1</td>\n",
       "      <td>0</td>\n",
       "      <td>0</td>\n",
       "      <td>0</td>\n",
       "      <td>0</td>\n",
       "      <td>0</td>\n",
       "      <td>0</td>\n",
       "      <td>0</td>\n",
       "      <td>0</td>\n",
       "      <td>0</td>\n",
       "      <td>...</td>\n",
       "      <td>0</td>\n",
       "      <td>0</td>\n",
       "      <td>0</td>\n",
       "      <td>0</td>\n",
       "      <td>0</td>\n",
       "      <td>0</td>\n",
       "      <td>0</td>\n",
       "      <td>0</td>\n",
       "      <td>0</td>\n",
       "      <td>0</td>\n",
       "    </tr>\n",
       "    <tr>\n",
       "      <th>3</th>\n",
       "      <td>4</td>\n",
       "      <td>0</td>\n",
       "      <td>0</td>\n",
       "      <td>0</td>\n",
       "      <td>0</td>\n",
       "      <td>0</td>\n",
       "      <td>0</td>\n",
       "      <td>0</td>\n",
       "      <td>0</td>\n",
       "      <td>0</td>\n",
       "      <td>...</td>\n",
       "      <td>0</td>\n",
       "      <td>0</td>\n",
       "      <td>0</td>\n",
       "      <td>0</td>\n",
       "      <td>0</td>\n",
       "      <td>0</td>\n",
       "      <td>0</td>\n",
       "      <td>0</td>\n",
       "      <td>0</td>\n",
       "      <td>0</td>\n",
       "    </tr>\n",
       "    <tr>\n",
       "      <th>4</th>\n",
       "      <td>0</td>\n",
       "      <td>0</td>\n",
       "      <td>0</td>\n",
       "      <td>0</td>\n",
       "      <td>0</td>\n",
       "      <td>0</td>\n",
       "      <td>0</td>\n",
       "      <td>0</td>\n",
       "      <td>0</td>\n",
       "      <td>0</td>\n",
       "      <td>...</td>\n",
       "      <td>0</td>\n",
       "      <td>0</td>\n",
       "      <td>0</td>\n",
       "      <td>0</td>\n",
       "      <td>0</td>\n",
       "      <td>0</td>\n",
       "      <td>0</td>\n",
       "      <td>0</td>\n",
       "      <td>0</td>\n",
       "      <td>0</td>\n",
       "    </tr>\n",
       "    <tr>\n",
       "      <th>5</th>\n",
       "      <td>0</td>\n",
       "      <td>0</td>\n",
       "      <td>0</td>\n",
       "      <td>0</td>\n",
       "      <td>0</td>\n",
       "      <td>0</td>\n",
       "      <td>0</td>\n",
       "      <td>0</td>\n",
       "      <td>0</td>\n",
       "      <td>0</td>\n",
       "      <td>...</td>\n",
       "      <td>0</td>\n",
       "      <td>0</td>\n",
       "      <td>0</td>\n",
       "      <td>0</td>\n",
       "      <td>0</td>\n",
       "      <td>0</td>\n",
       "      <td>0</td>\n",
       "      <td>0</td>\n",
       "      <td>0</td>\n",
       "      <td>0</td>\n",
       "    </tr>\n",
       "    <tr>\n",
       "      <th>6</th>\n",
       "      <td>7</td>\n",
       "      <td>0</td>\n",
       "      <td>0</td>\n",
       "      <td>0</td>\n",
       "      <td>0</td>\n",
       "      <td>0</td>\n",
       "      <td>0</td>\n",
       "      <td>0</td>\n",
       "      <td>0</td>\n",
       "      <td>0</td>\n",
       "      <td>...</td>\n",
       "      <td>0</td>\n",
       "      <td>0</td>\n",
       "      <td>0</td>\n",
       "      <td>0</td>\n",
       "      <td>0</td>\n",
       "      <td>0</td>\n",
       "      <td>0</td>\n",
       "      <td>0</td>\n",
       "      <td>0</td>\n",
       "      <td>0</td>\n",
       "    </tr>\n",
       "    <tr>\n",
       "      <th>7</th>\n",
       "      <td>3</td>\n",
       "      <td>0</td>\n",
       "      <td>0</td>\n",
       "      <td>0</td>\n",
       "      <td>0</td>\n",
       "      <td>0</td>\n",
       "      <td>0</td>\n",
       "      <td>0</td>\n",
       "      <td>0</td>\n",
       "      <td>0</td>\n",
       "      <td>...</td>\n",
       "      <td>0</td>\n",
       "      <td>0</td>\n",
       "      <td>0</td>\n",
       "      <td>0</td>\n",
       "      <td>0</td>\n",
       "      <td>0</td>\n",
       "      <td>0</td>\n",
       "      <td>0</td>\n",
       "      <td>0</td>\n",
       "      <td>0</td>\n",
       "    </tr>\n",
       "    <tr>\n",
       "      <th>8</th>\n",
       "      <td>5</td>\n",
       "      <td>0</td>\n",
       "      <td>0</td>\n",
       "      <td>0</td>\n",
       "      <td>0</td>\n",
       "      <td>0</td>\n",
       "      <td>0</td>\n",
       "      <td>0</td>\n",
       "      <td>0</td>\n",
       "      <td>0</td>\n",
       "      <td>...</td>\n",
       "      <td>0</td>\n",
       "      <td>0</td>\n",
       "      <td>0</td>\n",
       "      <td>0</td>\n",
       "      <td>0</td>\n",
       "      <td>0</td>\n",
       "      <td>0</td>\n",
       "      <td>0</td>\n",
       "      <td>0</td>\n",
       "      <td>0</td>\n",
       "    </tr>\n",
       "    <tr>\n",
       "      <th>9</th>\n",
       "      <td>3</td>\n",
       "      <td>0</td>\n",
       "      <td>0</td>\n",
       "      <td>0</td>\n",
       "      <td>0</td>\n",
       "      <td>0</td>\n",
       "      <td>0</td>\n",
       "      <td>0</td>\n",
       "      <td>0</td>\n",
       "      <td>0</td>\n",
       "      <td>...</td>\n",
       "      <td>0</td>\n",
       "      <td>0</td>\n",
       "      <td>0</td>\n",
       "      <td>0</td>\n",
       "      <td>0</td>\n",
       "      <td>0</td>\n",
       "      <td>0</td>\n",
       "      <td>0</td>\n",
       "      <td>0</td>\n",
       "      <td>0</td>\n",
       "    </tr>\n",
       "  </tbody>\n",
       "</table>\n",
       "<p>10 rows × 785 columns</p>\n",
       "</div>"
      ],
      "text/plain": [
       "   label  pixel0  pixel1  pixel2  pixel3  pixel4  pixel5  pixel6  pixel7  \\\n",
       "0      1       0       0       0       0       0       0       0       0   \n",
       "1      0       0       0       0       0       0       0       0       0   \n",
       "2      1       0       0       0       0       0       0       0       0   \n",
       "3      4       0       0       0       0       0       0       0       0   \n",
       "4      0       0       0       0       0       0       0       0       0   \n",
       "5      0       0       0       0       0       0       0       0       0   \n",
       "6      7       0       0       0       0       0       0       0       0   \n",
       "7      3       0       0       0       0       0       0       0       0   \n",
       "8      5       0       0       0       0       0       0       0       0   \n",
       "9      3       0       0       0       0       0       0       0       0   \n",
       "\n",
       "   pixel8  ...  pixel774  pixel775  pixel776  pixel777  pixel778  pixel779  \\\n",
       "0       0  ...         0         0         0         0         0         0   \n",
       "1       0  ...         0         0         0         0         0         0   \n",
       "2       0  ...         0         0         0         0         0         0   \n",
       "3       0  ...         0         0         0         0         0         0   \n",
       "4       0  ...         0         0         0         0         0         0   \n",
       "5       0  ...         0         0         0         0         0         0   \n",
       "6       0  ...         0         0         0         0         0         0   \n",
       "7       0  ...         0         0         0         0         0         0   \n",
       "8       0  ...         0         0         0         0         0         0   \n",
       "9       0  ...         0         0         0         0         0         0   \n",
       "\n",
       "   pixel780  pixel781  pixel782  pixel783  \n",
       "0         0         0         0         0  \n",
       "1         0         0         0         0  \n",
       "2         0         0         0         0  \n",
       "3         0         0         0         0  \n",
       "4         0         0         0         0  \n",
       "5         0         0         0         0  \n",
       "6         0         0         0         0  \n",
       "7         0         0         0         0  \n",
       "8         0         0         0         0  \n",
       "9         0         0         0         0  \n",
       "\n",
       "[10 rows x 785 columns]"
      ]
     },
     "execution_count": 78,
     "metadata": {},
     "output_type": "execute_result"
    }
   ],
   "source": [
    "df_train.head(10)  # Zeigt die ersten 10 Zeilen des Datensatzes an"
   ]
  },
  {
   "cell_type": "code",
   "execution_count": 79,
   "metadata": {},
   "outputs": [
    {
     "data": {
      "text/html": [
       "<div>\n",
       "<style scoped>\n",
       "    .dataframe tbody tr th:only-of-type {\n",
       "        vertical-align: middle;\n",
       "    }\n",
       "\n",
       "    .dataframe tbody tr th {\n",
       "        vertical-align: top;\n",
       "    }\n",
       "\n",
       "    .dataframe thead th {\n",
       "        text-align: right;\n",
       "    }\n",
       "</style>\n",
       "<table border=\"1\" class=\"dataframe\">\n",
       "  <thead>\n",
       "    <tr style=\"text-align: right;\">\n",
       "      <th></th>\n",
       "      <th>label</th>\n",
       "      <th>pixel0</th>\n",
       "      <th>pixel1</th>\n",
       "      <th>pixel2</th>\n",
       "      <th>pixel3</th>\n",
       "      <th>pixel4</th>\n",
       "      <th>pixel5</th>\n",
       "      <th>pixel6</th>\n",
       "      <th>pixel7</th>\n",
       "      <th>pixel8</th>\n",
       "      <th>...</th>\n",
       "      <th>pixel774</th>\n",
       "      <th>pixel775</th>\n",
       "      <th>pixel776</th>\n",
       "      <th>pixel777</th>\n",
       "      <th>pixel778</th>\n",
       "      <th>pixel779</th>\n",
       "      <th>pixel780</th>\n",
       "      <th>pixel781</th>\n",
       "      <th>pixel782</th>\n",
       "      <th>pixel783</th>\n",
       "    </tr>\n",
       "  </thead>\n",
       "  <tbody>\n",
       "    <tr>\n",
       "      <th>41990</th>\n",
       "      <td>3</td>\n",
       "      <td>0</td>\n",
       "      <td>0</td>\n",
       "      <td>0</td>\n",
       "      <td>0</td>\n",
       "      <td>0</td>\n",
       "      <td>0</td>\n",
       "      <td>0</td>\n",
       "      <td>0</td>\n",
       "      <td>0</td>\n",
       "      <td>...</td>\n",
       "      <td>0</td>\n",
       "      <td>0</td>\n",
       "      <td>0</td>\n",
       "      <td>0</td>\n",
       "      <td>0</td>\n",
       "      <td>0</td>\n",
       "      <td>0</td>\n",
       "      <td>0</td>\n",
       "      <td>0</td>\n",
       "      <td>0</td>\n",
       "    </tr>\n",
       "    <tr>\n",
       "      <th>41991</th>\n",
       "      <td>1</td>\n",
       "      <td>0</td>\n",
       "      <td>0</td>\n",
       "      <td>0</td>\n",
       "      <td>0</td>\n",
       "      <td>0</td>\n",
       "      <td>0</td>\n",
       "      <td>0</td>\n",
       "      <td>0</td>\n",
       "      <td>0</td>\n",
       "      <td>...</td>\n",
       "      <td>0</td>\n",
       "      <td>0</td>\n",
       "      <td>0</td>\n",
       "      <td>0</td>\n",
       "      <td>0</td>\n",
       "      <td>0</td>\n",
       "      <td>0</td>\n",
       "      <td>0</td>\n",
       "      <td>0</td>\n",
       "      <td>0</td>\n",
       "    </tr>\n",
       "    <tr>\n",
       "      <th>41992</th>\n",
       "      <td>9</td>\n",
       "      <td>0</td>\n",
       "      <td>0</td>\n",
       "      <td>0</td>\n",
       "      <td>0</td>\n",
       "      <td>0</td>\n",
       "      <td>0</td>\n",
       "      <td>0</td>\n",
       "      <td>0</td>\n",
       "      <td>0</td>\n",
       "      <td>...</td>\n",
       "      <td>0</td>\n",
       "      <td>0</td>\n",
       "      <td>0</td>\n",
       "      <td>0</td>\n",
       "      <td>0</td>\n",
       "      <td>0</td>\n",
       "      <td>0</td>\n",
       "      <td>0</td>\n",
       "      <td>0</td>\n",
       "      <td>0</td>\n",
       "    </tr>\n",
       "    <tr>\n",
       "      <th>41993</th>\n",
       "      <td>6</td>\n",
       "      <td>0</td>\n",
       "      <td>0</td>\n",
       "      <td>0</td>\n",
       "      <td>0</td>\n",
       "      <td>0</td>\n",
       "      <td>0</td>\n",
       "      <td>0</td>\n",
       "      <td>0</td>\n",
       "      <td>0</td>\n",
       "      <td>...</td>\n",
       "      <td>0</td>\n",
       "      <td>0</td>\n",
       "      <td>0</td>\n",
       "      <td>0</td>\n",
       "      <td>0</td>\n",
       "      <td>0</td>\n",
       "      <td>0</td>\n",
       "      <td>0</td>\n",
       "      <td>0</td>\n",
       "      <td>0</td>\n",
       "    </tr>\n",
       "    <tr>\n",
       "      <th>41994</th>\n",
       "      <td>4</td>\n",
       "      <td>0</td>\n",
       "      <td>0</td>\n",
       "      <td>0</td>\n",
       "      <td>0</td>\n",
       "      <td>0</td>\n",
       "      <td>0</td>\n",
       "      <td>0</td>\n",
       "      <td>0</td>\n",
       "      <td>0</td>\n",
       "      <td>...</td>\n",
       "      <td>0</td>\n",
       "      <td>0</td>\n",
       "      <td>0</td>\n",
       "      <td>0</td>\n",
       "      <td>0</td>\n",
       "      <td>0</td>\n",
       "      <td>0</td>\n",
       "      <td>0</td>\n",
       "      <td>0</td>\n",
       "      <td>0</td>\n",
       "    </tr>\n",
       "    <tr>\n",
       "      <th>41995</th>\n",
       "      <td>0</td>\n",
       "      <td>0</td>\n",
       "      <td>0</td>\n",
       "      <td>0</td>\n",
       "      <td>0</td>\n",
       "      <td>0</td>\n",
       "      <td>0</td>\n",
       "      <td>0</td>\n",
       "      <td>0</td>\n",
       "      <td>0</td>\n",
       "      <td>...</td>\n",
       "      <td>0</td>\n",
       "      <td>0</td>\n",
       "      <td>0</td>\n",
       "      <td>0</td>\n",
       "      <td>0</td>\n",
       "      <td>0</td>\n",
       "      <td>0</td>\n",
       "      <td>0</td>\n",
       "      <td>0</td>\n",
       "      <td>0</td>\n",
       "    </tr>\n",
       "    <tr>\n",
       "      <th>41996</th>\n",
       "      <td>1</td>\n",
       "      <td>0</td>\n",
       "      <td>0</td>\n",
       "      <td>0</td>\n",
       "      <td>0</td>\n",
       "      <td>0</td>\n",
       "      <td>0</td>\n",
       "      <td>0</td>\n",
       "      <td>0</td>\n",
       "      <td>0</td>\n",
       "      <td>...</td>\n",
       "      <td>0</td>\n",
       "      <td>0</td>\n",
       "      <td>0</td>\n",
       "      <td>0</td>\n",
       "      <td>0</td>\n",
       "      <td>0</td>\n",
       "      <td>0</td>\n",
       "      <td>0</td>\n",
       "      <td>0</td>\n",
       "      <td>0</td>\n",
       "    </tr>\n",
       "    <tr>\n",
       "      <th>41997</th>\n",
       "      <td>7</td>\n",
       "      <td>0</td>\n",
       "      <td>0</td>\n",
       "      <td>0</td>\n",
       "      <td>0</td>\n",
       "      <td>0</td>\n",
       "      <td>0</td>\n",
       "      <td>0</td>\n",
       "      <td>0</td>\n",
       "      <td>0</td>\n",
       "      <td>...</td>\n",
       "      <td>0</td>\n",
       "      <td>0</td>\n",
       "      <td>0</td>\n",
       "      <td>0</td>\n",
       "      <td>0</td>\n",
       "      <td>0</td>\n",
       "      <td>0</td>\n",
       "      <td>0</td>\n",
       "      <td>0</td>\n",
       "      <td>0</td>\n",
       "    </tr>\n",
       "    <tr>\n",
       "      <th>41998</th>\n",
       "      <td>6</td>\n",
       "      <td>0</td>\n",
       "      <td>0</td>\n",
       "      <td>0</td>\n",
       "      <td>0</td>\n",
       "      <td>0</td>\n",
       "      <td>0</td>\n",
       "      <td>0</td>\n",
       "      <td>0</td>\n",
       "      <td>0</td>\n",
       "      <td>...</td>\n",
       "      <td>0</td>\n",
       "      <td>0</td>\n",
       "      <td>0</td>\n",
       "      <td>0</td>\n",
       "      <td>0</td>\n",
       "      <td>0</td>\n",
       "      <td>0</td>\n",
       "      <td>0</td>\n",
       "      <td>0</td>\n",
       "      <td>0</td>\n",
       "    </tr>\n",
       "    <tr>\n",
       "      <th>41999</th>\n",
       "      <td>9</td>\n",
       "      <td>0</td>\n",
       "      <td>0</td>\n",
       "      <td>0</td>\n",
       "      <td>0</td>\n",
       "      <td>0</td>\n",
       "      <td>0</td>\n",
       "      <td>0</td>\n",
       "      <td>0</td>\n",
       "      <td>0</td>\n",
       "      <td>...</td>\n",
       "      <td>0</td>\n",
       "      <td>0</td>\n",
       "      <td>0</td>\n",
       "      <td>0</td>\n",
       "      <td>0</td>\n",
       "      <td>0</td>\n",
       "      <td>0</td>\n",
       "      <td>0</td>\n",
       "      <td>0</td>\n",
       "      <td>0</td>\n",
       "    </tr>\n",
       "  </tbody>\n",
       "</table>\n",
       "<p>10 rows × 785 columns</p>\n",
       "</div>"
      ],
      "text/plain": [
       "       label  pixel0  pixel1  pixel2  pixel3  pixel4  pixel5  pixel6  pixel7  \\\n",
       "41990      3       0       0       0       0       0       0       0       0   \n",
       "41991      1       0       0       0       0       0       0       0       0   \n",
       "41992      9       0       0       0       0       0       0       0       0   \n",
       "41993      6       0       0       0       0       0       0       0       0   \n",
       "41994      4       0       0       0       0       0       0       0       0   \n",
       "41995      0       0       0       0       0       0       0       0       0   \n",
       "41996      1       0       0       0       0       0       0       0       0   \n",
       "41997      7       0       0       0       0       0       0       0       0   \n",
       "41998      6       0       0       0       0       0       0       0       0   \n",
       "41999      9       0       0       0       0       0       0       0       0   \n",
       "\n",
       "       pixel8  ...  pixel774  pixel775  pixel776  pixel777  pixel778  \\\n",
       "41990       0  ...         0         0         0         0         0   \n",
       "41991       0  ...         0         0         0         0         0   \n",
       "41992       0  ...         0         0         0         0         0   \n",
       "41993       0  ...         0         0         0         0         0   \n",
       "41994       0  ...         0         0         0         0         0   \n",
       "41995       0  ...         0         0         0         0         0   \n",
       "41996       0  ...         0         0         0         0         0   \n",
       "41997       0  ...         0         0         0         0         0   \n",
       "41998       0  ...         0         0         0         0         0   \n",
       "41999       0  ...         0         0         0         0         0   \n",
       "\n",
       "       pixel779  pixel780  pixel781  pixel782  pixel783  \n",
       "41990         0         0         0         0         0  \n",
       "41991         0         0         0         0         0  \n",
       "41992         0         0         0         0         0  \n",
       "41993         0         0         0         0         0  \n",
       "41994         0         0         0         0         0  \n",
       "41995         0         0         0         0         0  \n",
       "41996         0         0         0         0         0  \n",
       "41997         0         0         0         0         0  \n",
       "41998         0         0         0         0         0  \n",
       "41999         0         0         0         0         0  \n",
       "\n",
       "[10 rows x 785 columns]"
      ]
     },
     "execution_count": 79,
     "metadata": {},
     "output_type": "execute_result"
    }
   ],
   "source": [
    "df_train.tail() #zeigt die letzten 5 Zeilen des Datensatzes an\n",
    "df_train.tail(10) #zeigt die letzten 10 Zeilen des Datensatzes an"
   ]
  },
  {
   "cell_type": "code",
   "execution_count": 80,
   "metadata": {},
   "outputs": [
    {
     "name": "stdout",
     "output_type": "stream",
     "text": [
      "<class 'pandas.core.frame.DataFrame'>\n",
      "RangeIndex: 42000 entries, 0 to 41999\n",
      "Columns: 785 entries, label to pixel783\n",
      "dtypes: int64(785)\n",
      "memory usage: 251.5 MB\n"
     ]
    }
   ],
   "source": [
    "'''\n",
    "Zeigt:\n",
    "\n",
    "Anzahl der Zeilen und Spalten\n",
    "Datentypen jeder Spalte\n",
    "Anzahl der nicht-null Werte pro Spalte (nützlich für fehlende Werte!)\n",
    "'''\n",
    "\n",
    "df_train.info() #zeigt Informationen über den Datensatz an"
   ]
  },
  {
   "cell_type": "code",
   "execution_count": 81,
   "metadata": {},
   "outputs": [
    {
     "data": {
      "text/html": [
       "<div>\n",
       "<style scoped>\n",
       "    .dataframe tbody tr th:only-of-type {\n",
       "        vertical-align: middle;\n",
       "    }\n",
       "\n",
       "    .dataframe tbody tr th {\n",
       "        vertical-align: top;\n",
       "    }\n",
       "\n",
       "    .dataframe thead th {\n",
       "        text-align: right;\n",
       "    }\n",
       "</style>\n",
       "<table border=\"1\" class=\"dataframe\">\n",
       "  <thead>\n",
       "    <tr style=\"text-align: right;\">\n",
       "      <th></th>\n",
       "      <th>label</th>\n",
       "      <th>pixel0</th>\n",
       "      <th>pixel1</th>\n",
       "      <th>pixel2</th>\n",
       "      <th>pixel3</th>\n",
       "      <th>pixel4</th>\n",
       "      <th>pixel5</th>\n",
       "      <th>pixel6</th>\n",
       "      <th>pixel7</th>\n",
       "      <th>pixel8</th>\n",
       "      <th>...</th>\n",
       "      <th>pixel774</th>\n",
       "      <th>pixel775</th>\n",
       "      <th>pixel776</th>\n",
       "      <th>pixel777</th>\n",
       "      <th>pixel778</th>\n",
       "      <th>pixel779</th>\n",
       "      <th>pixel780</th>\n",
       "      <th>pixel781</th>\n",
       "      <th>pixel782</th>\n",
       "      <th>pixel783</th>\n",
       "    </tr>\n",
       "  </thead>\n",
       "  <tbody>\n",
       "    <tr>\n",
       "      <th>count</th>\n",
       "      <td>42000.000000</td>\n",
       "      <td>42000.0</td>\n",
       "      <td>42000.0</td>\n",
       "      <td>42000.0</td>\n",
       "      <td>42000.0</td>\n",
       "      <td>42000.0</td>\n",
       "      <td>42000.0</td>\n",
       "      <td>42000.0</td>\n",
       "      <td>42000.0</td>\n",
       "      <td>42000.0</td>\n",
       "      <td>...</td>\n",
       "      <td>42000.000000</td>\n",
       "      <td>42000.000000</td>\n",
       "      <td>42000.000000</td>\n",
       "      <td>42000.00000</td>\n",
       "      <td>42000.000000</td>\n",
       "      <td>42000.000000</td>\n",
       "      <td>42000.0</td>\n",
       "      <td>42000.0</td>\n",
       "      <td>42000.0</td>\n",
       "      <td>42000.0</td>\n",
       "    </tr>\n",
       "    <tr>\n",
       "      <th>mean</th>\n",
       "      <td>4.456643</td>\n",
       "      <td>0.0</td>\n",
       "      <td>0.0</td>\n",
       "      <td>0.0</td>\n",
       "      <td>0.0</td>\n",
       "      <td>0.0</td>\n",
       "      <td>0.0</td>\n",
       "      <td>0.0</td>\n",
       "      <td>0.0</td>\n",
       "      <td>0.0</td>\n",
       "      <td>...</td>\n",
       "      <td>0.219286</td>\n",
       "      <td>0.117095</td>\n",
       "      <td>0.059024</td>\n",
       "      <td>0.02019</td>\n",
       "      <td>0.017238</td>\n",
       "      <td>0.002857</td>\n",
       "      <td>0.0</td>\n",
       "      <td>0.0</td>\n",
       "      <td>0.0</td>\n",
       "      <td>0.0</td>\n",
       "    </tr>\n",
       "    <tr>\n",
       "      <th>std</th>\n",
       "      <td>2.887730</td>\n",
       "      <td>0.0</td>\n",
       "      <td>0.0</td>\n",
       "      <td>0.0</td>\n",
       "      <td>0.0</td>\n",
       "      <td>0.0</td>\n",
       "      <td>0.0</td>\n",
       "      <td>0.0</td>\n",
       "      <td>0.0</td>\n",
       "      <td>0.0</td>\n",
       "      <td>...</td>\n",
       "      <td>6.312890</td>\n",
       "      <td>4.633819</td>\n",
       "      <td>3.274488</td>\n",
       "      <td>1.75987</td>\n",
       "      <td>1.894498</td>\n",
       "      <td>0.414264</td>\n",
       "      <td>0.0</td>\n",
       "      <td>0.0</td>\n",
       "      <td>0.0</td>\n",
       "      <td>0.0</td>\n",
       "    </tr>\n",
       "    <tr>\n",
       "      <th>min</th>\n",
       "      <td>0.000000</td>\n",
       "      <td>0.0</td>\n",
       "      <td>0.0</td>\n",
       "      <td>0.0</td>\n",
       "      <td>0.0</td>\n",
       "      <td>0.0</td>\n",
       "      <td>0.0</td>\n",
       "      <td>0.0</td>\n",
       "      <td>0.0</td>\n",
       "      <td>0.0</td>\n",
       "      <td>...</td>\n",
       "      <td>0.000000</td>\n",
       "      <td>0.000000</td>\n",
       "      <td>0.000000</td>\n",
       "      <td>0.00000</td>\n",
       "      <td>0.000000</td>\n",
       "      <td>0.000000</td>\n",
       "      <td>0.0</td>\n",
       "      <td>0.0</td>\n",
       "      <td>0.0</td>\n",
       "      <td>0.0</td>\n",
       "    </tr>\n",
       "    <tr>\n",
       "      <th>25%</th>\n",
       "      <td>2.000000</td>\n",
       "      <td>0.0</td>\n",
       "      <td>0.0</td>\n",
       "      <td>0.0</td>\n",
       "      <td>0.0</td>\n",
       "      <td>0.0</td>\n",
       "      <td>0.0</td>\n",
       "      <td>0.0</td>\n",
       "      <td>0.0</td>\n",
       "      <td>0.0</td>\n",
       "      <td>...</td>\n",
       "      <td>0.000000</td>\n",
       "      <td>0.000000</td>\n",
       "      <td>0.000000</td>\n",
       "      <td>0.00000</td>\n",
       "      <td>0.000000</td>\n",
       "      <td>0.000000</td>\n",
       "      <td>0.0</td>\n",
       "      <td>0.0</td>\n",
       "      <td>0.0</td>\n",
       "      <td>0.0</td>\n",
       "    </tr>\n",
       "    <tr>\n",
       "      <th>50%</th>\n",
       "      <td>4.000000</td>\n",
       "      <td>0.0</td>\n",
       "      <td>0.0</td>\n",
       "      <td>0.0</td>\n",
       "      <td>0.0</td>\n",
       "      <td>0.0</td>\n",
       "      <td>0.0</td>\n",
       "      <td>0.0</td>\n",
       "      <td>0.0</td>\n",
       "      <td>0.0</td>\n",
       "      <td>...</td>\n",
       "      <td>0.000000</td>\n",
       "      <td>0.000000</td>\n",
       "      <td>0.000000</td>\n",
       "      <td>0.00000</td>\n",
       "      <td>0.000000</td>\n",
       "      <td>0.000000</td>\n",
       "      <td>0.0</td>\n",
       "      <td>0.0</td>\n",
       "      <td>0.0</td>\n",
       "      <td>0.0</td>\n",
       "    </tr>\n",
       "    <tr>\n",
       "      <th>75%</th>\n",
       "      <td>7.000000</td>\n",
       "      <td>0.0</td>\n",
       "      <td>0.0</td>\n",
       "      <td>0.0</td>\n",
       "      <td>0.0</td>\n",
       "      <td>0.0</td>\n",
       "      <td>0.0</td>\n",
       "      <td>0.0</td>\n",
       "      <td>0.0</td>\n",
       "      <td>0.0</td>\n",
       "      <td>...</td>\n",
       "      <td>0.000000</td>\n",
       "      <td>0.000000</td>\n",
       "      <td>0.000000</td>\n",
       "      <td>0.00000</td>\n",
       "      <td>0.000000</td>\n",
       "      <td>0.000000</td>\n",
       "      <td>0.0</td>\n",
       "      <td>0.0</td>\n",
       "      <td>0.0</td>\n",
       "      <td>0.0</td>\n",
       "    </tr>\n",
       "    <tr>\n",
       "      <th>max</th>\n",
       "      <td>9.000000</td>\n",
       "      <td>0.0</td>\n",
       "      <td>0.0</td>\n",
       "      <td>0.0</td>\n",
       "      <td>0.0</td>\n",
       "      <td>0.0</td>\n",
       "      <td>0.0</td>\n",
       "      <td>0.0</td>\n",
       "      <td>0.0</td>\n",
       "      <td>0.0</td>\n",
       "      <td>...</td>\n",
       "      <td>254.000000</td>\n",
       "      <td>254.000000</td>\n",
       "      <td>253.000000</td>\n",
       "      <td>253.00000</td>\n",
       "      <td>254.000000</td>\n",
       "      <td>62.000000</td>\n",
       "      <td>0.0</td>\n",
       "      <td>0.0</td>\n",
       "      <td>0.0</td>\n",
       "      <td>0.0</td>\n",
       "    </tr>\n",
       "  </tbody>\n",
       "</table>\n",
       "<p>8 rows × 785 columns</p>\n",
       "</div>"
      ],
      "text/plain": [
       "              label   pixel0   pixel1   pixel2   pixel3   pixel4   pixel5  \\\n",
       "count  42000.000000  42000.0  42000.0  42000.0  42000.0  42000.0  42000.0   \n",
       "mean       4.456643      0.0      0.0      0.0      0.0      0.0      0.0   \n",
       "std        2.887730      0.0      0.0      0.0      0.0      0.0      0.0   \n",
       "min        0.000000      0.0      0.0      0.0      0.0      0.0      0.0   \n",
       "25%        2.000000      0.0      0.0      0.0      0.0      0.0      0.0   \n",
       "50%        4.000000      0.0      0.0      0.0      0.0      0.0      0.0   \n",
       "75%        7.000000      0.0      0.0      0.0      0.0      0.0      0.0   \n",
       "max        9.000000      0.0      0.0      0.0      0.0      0.0      0.0   \n",
       "\n",
       "        pixel6   pixel7   pixel8  ...      pixel774      pixel775  \\\n",
       "count  42000.0  42000.0  42000.0  ...  42000.000000  42000.000000   \n",
       "mean       0.0      0.0      0.0  ...      0.219286      0.117095   \n",
       "std        0.0      0.0      0.0  ...      6.312890      4.633819   \n",
       "min        0.0      0.0      0.0  ...      0.000000      0.000000   \n",
       "25%        0.0      0.0      0.0  ...      0.000000      0.000000   \n",
       "50%        0.0      0.0      0.0  ...      0.000000      0.000000   \n",
       "75%        0.0      0.0      0.0  ...      0.000000      0.000000   \n",
       "max        0.0      0.0      0.0  ...    254.000000    254.000000   \n",
       "\n",
       "           pixel776     pixel777      pixel778      pixel779  pixel780  \\\n",
       "count  42000.000000  42000.00000  42000.000000  42000.000000   42000.0   \n",
       "mean       0.059024      0.02019      0.017238      0.002857       0.0   \n",
       "std        3.274488      1.75987      1.894498      0.414264       0.0   \n",
       "min        0.000000      0.00000      0.000000      0.000000       0.0   \n",
       "25%        0.000000      0.00000      0.000000      0.000000       0.0   \n",
       "50%        0.000000      0.00000      0.000000      0.000000       0.0   \n",
       "75%        0.000000      0.00000      0.000000      0.000000       0.0   \n",
       "max      253.000000    253.00000    254.000000     62.000000       0.0   \n",
       "\n",
       "       pixel781  pixel782  pixel783  \n",
       "count   42000.0   42000.0   42000.0  \n",
       "mean        0.0       0.0       0.0  \n",
       "std         0.0       0.0       0.0  \n",
       "min         0.0       0.0       0.0  \n",
       "25%         0.0       0.0       0.0  \n",
       "50%         0.0       0.0       0.0  \n",
       "75%         0.0       0.0       0.0  \n",
       "max         0.0       0.0       0.0  \n",
       "\n",
       "[8 rows x 785 columns]"
      ]
     },
     "execution_count": 81,
     "metadata": {},
     "output_type": "execute_result"
    }
   ],
   "source": [
    "'''\n",
    "Gibt eine statistische Zusammenfassung der numerischen Spalten:\n",
    "\n",
    "Mittelwert (mean)\n",
    "Standardabweichung (std)\n",
    "Minimum (min)\n",
    "Maximum (max)\n",
    "Quartile (25%, 50%, 75%)\n",
    "'''\n",
    "\n",
    "df_train.describe() #zeigt statistische Informationen über den Datensatz an"
   ]
  },
  {
   "cell_type": "code",
   "execution_count": 82,
   "metadata": {},
   "outputs": [
    {
     "data": {
      "text/plain": [
       "Index(['label', 'pixel0', 'pixel1', 'pixel2', 'pixel3', 'pixel4', 'pixel5',\n",
       "       'pixel6', 'pixel7', 'pixel8',\n",
       "       ...\n",
       "       'pixel774', 'pixel775', 'pixel776', 'pixel777', 'pixel778', 'pixel779',\n",
       "       'pixel780', 'pixel781', 'pixel782', 'pixel783'],\n",
       "      dtype='object', length=785)"
      ]
     },
     "execution_count": 82,
     "metadata": {},
     "output_type": "execute_result"
    }
   ],
   "source": [
    "df_train.columns"
   ]
  },
  {
   "cell_type": "code",
   "execution_count": 83,
   "metadata": {},
   "outputs": [
    {
     "data": {
      "text/plain": [
       "label       int64\n",
       "pixel0      int64\n",
       "pixel1      int64\n",
       "pixel2      int64\n",
       "pixel3      int64\n",
       "            ...  \n",
       "pixel779    int64\n",
       "pixel780    int64\n",
       "pixel781    int64\n",
       "pixel782    int64\n",
       "pixel783    int64\n",
       "Length: 785, dtype: object"
      ]
     },
     "execution_count": 83,
     "metadata": {},
     "output_type": "execute_result"
    }
   ],
   "source": [
    "df_train.dtypes"
   ]
  },
  {
   "cell_type": "code",
   "execution_count": 84,
   "metadata": {},
   "outputs": [
    {
     "data": {
      "text/plain": [
       "label       0\n",
       "pixel0      0\n",
       "pixel1      0\n",
       "pixel2      0\n",
       "pixel3      0\n",
       "           ..\n",
       "pixel779    0\n",
       "pixel780    0\n",
       "pixel781    0\n",
       "pixel782    0\n",
       "pixel783    0\n",
       "Length: 785, dtype: int64"
      ]
     },
     "execution_count": 84,
     "metadata": {},
     "output_type": "execute_result"
    }
   ],
   "source": [
    "df_train.isnull().sum()"
   ]
  },
  {
   "cell_type": "code",
   "execution_count": 85,
   "metadata": {},
   "outputs": [
    {
     "data": {
      "text/plain": [
       "array([1, 0, 4, 7, 3, 5, 8, 9, 2, 6])"
      ]
     },
     "execution_count": 85,
     "metadata": {},
     "output_type": "execute_result"
    }
   ],
   "source": [
    "# Falls du wissen willst, welche einzigartigen Werte eine Spalte hat, kannst du die Methode unique() verwenden:\n",
    "df_train['label'].unique()"
   ]
  },
  {
   "cell_type": "code",
   "execution_count": 86,
   "metadata": {},
   "outputs": [
    {
     "data": {
      "text/plain": [
       "array([0])"
      ]
     },
     "execution_count": 86,
     "metadata": {},
     "output_type": "execute_result"
    }
   ],
   "source": [
    "df_train['pixel0'].unique()"
   ]
  },
  {
   "cell_type": "code",
   "execution_count": 87,
   "metadata": {},
   "outputs": [
    {
     "data": {
      "text/plain": [
       "10"
      ]
     },
     "execution_count": 87,
     "metadata": {},
     "output_type": "execute_result"
    }
   ],
   "source": [
    "# Zeigt, wie viele verschiedene Werte eine Spalte hat:\n",
    "df_train['label'].nunique()"
   ]
  },
  {
   "cell_type": "code",
   "execution_count": 88,
   "metadata": {},
   "outputs": [
    {
     "data": {
      "text/plain": [
       "1"
      ]
     },
     "execution_count": 88,
     "metadata": {},
     "output_type": "execute_result"
    }
   ],
   "source": [
    "df_train['pixel0'].nunique()"
   ]
  },
  {
   "cell_type": "code",
   "execution_count": 89,
   "metadata": {},
   "outputs": [
    {
     "data": {
      "text/plain": [
       "label\n",
       "1    4684\n",
       "7    4401\n",
       "3    4351\n",
       "9    4188\n",
       "2    4177\n",
       "6    4137\n",
       "0    4132\n",
       "4    4072\n",
       "8    4063\n",
       "5    3795\n",
       "Name: count, dtype: int64"
      ]
     },
     "execution_count": 89,
     "metadata": {},
     "output_type": "execute_result"
    }
   ],
   "source": [
    "#Zeigt, wie oft jeder Wert in einer Spalte vorkommt:\n",
    "df_train['label'].value_counts()"
   ]
  },
  {
   "cell_type": "code",
   "execution_count": 90,
   "metadata": {},
   "outputs": [
    {
     "data": {
      "text/plain": [
       "pixel0\n",
       "0    42000\n",
       "Name: count, dtype: int64"
      ]
     },
     "execution_count": 90,
     "metadata": {},
     "output_type": "execute_result"
    }
   ],
   "source": [
    "df_train['pixel0'].value_counts()"
   ]
  },
  {
   "cell_type": "code",
   "execution_count": 91,
   "metadata": {},
   "outputs": [
    {
     "data": {
      "text/plain": [
       "(42000, 785)"
      ]
     },
     "execution_count": 91,
     "metadata": {},
     "output_type": "execute_result"
    }
   ],
   "source": [
    "# Der shape-Aufruf in Pandas gibt die Anzahl der Zeilen und Spalten eines DataFrames zurück.\n",
    "df_train.shape"
   ]
  },
  {
   "cell_type": "code",
   "execution_count": 92,
   "metadata": {},
   "outputs": [
    {
     "data": {
      "text/plain": [
       "42000"
      ]
     },
     "execution_count": 92,
     "metadata": {},
     "output_type": "execute_result"
    }
   ],
   "source": [
    "df_train.shape[0]  # Gibt die Anzahl der Zeilen zurück"
   ]
  },
  {
   "cell_type": "code",
   "execution_count": 93,
   "metadata": {},
   "outputs": [
    {
     "data": {
      "text/plain": [
       "785"
      ]
     },
     "execution_count": 93,
     "metadata": {},
     "output_type": "execute_result"
    }
   ],
   "source": [
    "df_train.shape[1]  # Gibt die Anzahl der Spalten zurück"
   ]
  },
  {
   "cell_type": "markdown",
   "metadata": {},
   "source": [
    "## Visualisierung\n",
    "\n",
    "### Matplotlib.pyplot:\n",
    "matplotlib.pyplot ist ein Modul von Matplotlib, das eine einfache Schnittstelle für das Erstellen von Diagrammen und Plots bietet.\n",
    "\n",
    "- plt.plot(x, y): Erstellt eine 2D-Linie von x- zu y-Werten\n",
    "- plt.scatter(x, y): Erstellt ein Streudiagramm\n",
    "- plt.bar(x, height): Erstellt ein Balkendiagramm\n",
    "- plt.hist(data, bins=n): Erstellt ein Histogramm mit n Bins\n",
    "- plt.imshow(image, cmap='gray'): Zeigt ein Bild als 2D-Array an\n",
    "- plt.xlabel('X-Achse'): Beschriftet die X-Achse\n",
    "- plt.ylabel('Y-Achse'): Beschriftet die Y-Achse\n",
    "- plt.title('Titel'): Setzt einen Titel für den Plot\n",
    "- plt.show(): Zeigt den Plot an\n",
    "\n",
    "### numpy\n",
    "numpy (Numerical Python) ist eine leistungsstarke Bibliothek für numerische Berechnungen in Python. Sie bietet schnelle, effiziente Arrays und viele mathematische Funktionen.\n",
    "\n",
    "- np.array([1, 2, 3]): Erstellt ein NumPy-Array\n",
    "- np.zeros((3,3)): Erstellt eine 3×3-Matrix mit Nullen\n",
    "- np.ones((2,2)): Erstellt eine 2×2-Matrix mit Einsen\n",
    "- np.arange(0, 10, 2): Erstellt ein Array von 0 bis 10 in 2er-Schritten\n",
    "- np.linspace(0, 1, 5): Erstellt 5 gleichmäßig verteilte Werte zwischen 0 und 1\n",
    "- np.reshape(arr, (3,3)): Formt ein Array in eine 3×3-Matrix um\n",
    "- np.random.rand(3,3): Erstellt eine 3×3-Matrix mit Zufallszahlen (0 bis 1)\n",
    "- np.mean(arr): Berechnet den Mittelwert des Arrays\n",
    "- np.std(arr): Berechnet die Standardabweichung\n",
    "- np.dot(A, B): Matrixmultiplikation von A und B"
   ]
  },
  {
   "cell_type": "code",
   "execution_count": 94,
   "metadata": {},
   "outputs": [
    {
     "name": "stderr",
     "output_type": "stream",
     "text": [
      "/var/folders/5t/cq7cgcls7ds39zjljh3115l80000gn/T/ipykernel_57168/2811604706.py:5: FutureWarning: Series.__getitem__ treating keys as positions is deprecated. In a future version, integer keys will always be treated as labels (consistent with DataFrame behavior). To access a value by position, use `ser.iloc[pos]`\n",
      "  image_label = df_train.iloc[10][0]\n"
     ]
    }
   ],
   "source": [
    "import matplotlib.pyplot as plt\n",
    "import numpy as np\n",
    "\n",
    "image = df_train.iloc[1][1:].to_numpy().reshape(28, 28)\n",
    "image_label = df_train.iloc[10][0]"
   ]
  },
  {
   "cell_type": "markdown",
   "metadata": {},
   "source": [
    "df_train.iloc[10][1:] \n",
    "- Dies greift auf die 10. Zeile (iloc[10]) von df_train zu.\n",
    "- [1:] bedeutet, dass die erste Spalte ausgeschlossen wird, d.h., es werden nur die Feature-Werte (Pixelwerte des Bildes) entnommen.\n",
    "\n",
    ".to_numpy().reshape(28, 28)\n",
    "\n",
    "- Die Werte werden mit .to_numpy() in ein NumPy-Array umgewandelt.\n",
    "- reshape(28, 28) formt das eindimensionale Array in eine 28×28-Matrix, was typisch für Bilder aus dem MNIST-Datensatz ist.\n",
    "\n",
    "image_label = df_train.iloc[10][0]\n",
    "\n",
    "- Hier wird der Wert der ersten Spalte der 10. Zeile extrahiert, was in vielen Datensätzen das Label des Bildes ist (die Ziffer im MNIST-Datensatz)."
   ]
  },
  {
   "cell_type": "code",
   "execution_count": null,
   "metadata": {},
   "outputs": [
    {
     "data": {
      "image/png": "[encoded data removed]",
      "text/plain": [
       "<Figure size 640x480 with 1 Axes>"
      ]
     },
     "metadata": {},
     "output_type": "display_data"
    }
   ],
   "source": [
    "plt.imshow(image, cmap='')\n",
    "plt.title(f\"Label: {image_label}\")\n",
    "plt.axis('off')\n",
    "plt.show()"
   ]
  },
  {
   "cell_type": "markdown",
   "metadata": {},
   "source": [
    "plt.imshow(image, cmap='gray')\n",
    "\n",
    "- imshow() zeigt das Bild image als 2D-Array an.\n",
    "- cmap='gray' sorgt dafür, dass das Bild in Graustufen angezeigt wird, anstatt in einer Standard-Farbskala.\n",
    "\n",
    "plt.title(f\"Label: {image_label}\")\n",
    "- Setzt den Titel des Plots auf \"Label: {image_label}\".\n",
    "- {image_label} wird durch den tatsächlichen Wert ersetzt, z. B. \"Label: 7\" für eine Ziffer 7.\n",
    "\n",
    "plt.axis('off')\n",
    "- Entfernt die Achsenbeschriftungen und Gitterlinien.\n",
    "- Das macht das Bild klarer und sorgt dafür, dass nur das eigentliche Bild ohne Koordinaten sichtbar ist.\n",
    "\n",
    "plt.show()\n",
    "- Zeigt das Bild auf dem Bildschirm an.\n",
    "\n",
    "### Wie werden aus Zahlenwerten nun Farben?\n",
    "\n",
    "Die Umwandlung von Zahlenwerten in Farben in matplotlib.pyplot.imshow() erfolgt über eine Colormap (Farbschema, cmap). Dabei werden die Zahlenwerte im übergebenen Array (image) in Farben umgerechnet.\n",
    "\n",
    "- Das übergebene image ist ein NumPy-Array mit numerischen Pixelwerten.\n",
    "- Je nach Datentyp und Wertebereich wird imshow() die Werte auf eine Farbskala (Colormap) umlegen.\n",
    "- Die Farbzuordnung hängt vom gewählten cmap ab (z. B. gray, viridis, hot).\n",
    "\n",
    "Probiert einmal viridis und hot oben aus!\n",
    "\n",
    "Falls image Werte von 0 bis 255 hat, dann bedeutet 0 Schwarz und 255 Weiß. (128 Grauton)\n",
    "Falls image Werte von 0 bis 1 hat, wird 0 Schwarz und 1 Weiß gesetzt."
   ]
  },
  {
   "cell_type": "markdown",
   "metadata": {},
   "source": [
    "## Ok, wissen wir genügend über den Datensatz um jetzt schon ein Neurales Netz aufzusetzen? Was wissen wir denn bisher?\n",
    "\n",
    "- Bilder: 70.000 handgeschriebene Ziffern als 28×28 Graustufenbilder (kein RGB).\n",
    "- Trainingsset: 60.000 Bilder.\n",
    "- Testset: 10.000 Bilder.\n",
    "- Label: Jede Ziffer (0–9) hat eine zugehörige Klassenzahl (z. B. Label = 7 für eine handgeschriebene „7“).\n",
    "\n",
    "- Jeder Datensatz besteht aus einer Liste von Pixelwerten (0–255) in einer flachen Vektordarstellung.\n",
    "- 0 = Schwarz, 255 = Weiß → Werte dazwischen sind Graustufen.\n",
    "- Die Bilder können als 2D-Array (28×28) oder als 1D-Vektor (784 Features) genutzt werden.\n",
    "- Die Pixelwerte können als NumPy-Array gespeichert werden."
   ]
  },
  {
   "cell_type": "markdown",
   "metadata": {},
   "source": [
    "### sklearn\n",
    "scikit-learn ist eine der wichtigsten Bibliotheken für maschinelles Lernen in Python. Sie bietet:\n",
    "\n",
    "- Klassifikations- und Regressionsmodelle (z. B. SVMs, Entscheidungsbäume, kNN).\n",
    "- Datenvorverarbeitung (z. B. Skalierung, One-Hot-Encoding).\n",
    "- Modellbewertung (z. B. Kreuzvalidierung, Metriken wie Accuracy, F1-Score).\n",
    "- Feature-Engineering & Selektion (z. B. PCA, Feature Importance).\n",
    "\n",
    "train_test_split gehört zu sklearn.model_selection und wird verwendet, um Daten in Trainings- und Testsets aufzuteilen.\n",
    "\n",
    "Der One-Hot-Encoder wird verwendet, um kategorische Daten (z. B. Labels oder Textkategorien) in eine numerische Binärdarstellung umzuwandeln. Dies ist besonders nützlich für maschinelles Lernen, da viele Algorithmen nicht direkt mit Kategorien umgehen können."
   ]
  },
  {
   "cell_type": "code",
   "execution_count": 96,
   "metadata": {},
   "outputs": [],
   "source": [
    "# conda install scikit-learn\n",
    "# Hier müsst ihr ggf. das Kernel neu starten, damit die Installation wirksam wird\n",
    "from sklearn.model_selection import train_test_split\n",
    "from sklearn.preprocessing import OneHotEncoder"
   ]
  },
  {
   "cell_type": "code",
   "execution_count": 97,
   "metadata": {},
   "outputs": [
    {
     "data": {
      "text/plain": [
       "'\\ndf.iloc[:, 1:]:\\nWählt alle Spalten außer der ersten → enthält nur die Pixelwerte (Features).\\n.values: Wandelt das Pandas-DataFrame in ein NumPy-Array um.\\n.astype(np.float32): Konvertiert die Werte in 32-Bit Gleitkommazahlen (float32) für effizientere Berechnungen.\\n/ 255.0: Normalisiert die Werte auf den Bereich [0,1] (da Pixelwerte ursprünglich 0-255 sind).\\n'"
      ]
     },
     "execution_count": 97,
     "metadata": {},
     "output_type": "execute_result"
    }
   ],
   "source": [
    "X = df_train.iloc[:, 1:].values.astype(np.float32) / 255.0\n",
    "\n",
    "'''\n",
    "df.iloc[:, 1:]:\n",
    "Wählt alle Spalten außer der ersten → enthält nur die Pixelwerte (Features).\n",
    ".values: Wandelt das Pandas-DataFrame in ein NumPy-Array um.\n",
    ".astype(np.float32): Konvertiert die Werte in 32-Bit Gleitkommazahlen (float32) für effizientere Berechnungen.\n",
    "/ 255.0: Normalisiert die Werte auf den Bereich [0,1] (da Pixelwerte ursprünglich 0-255 sind).\n",
    "'''"
   ]
  },
  {
   "cell_type": "code",
   "execution_count": 98,
   "metadata": {},
   "outputs": [
    {
     "data": {
      "text/plain": [
       "'\\nWas passiert hier?\\n\\ndf.iloc[:, 0]: Wählt die erste Spalte → enthält die Labels (Ziffern 0-9).\\n.values: Wandelt die Pandas-Serie in ein NumPy-Array um.\\n.astype(np.int64): Konvertiert die Labels in 64-Bit Ganzzahlen (int64).\\n'"
      ]
     },
     "execution_count": 98,
     "metadata": {},
     "output_type": "execute_result"
    }
   ],
   "source": [
    "y = df_train.iloc[:, 0].values.astype(np.int64)\n",
    "\n",
    "'''\n",
    "Was passiert hier?\n",
    "\n",
    "df.iloc[:, 0]: Wählt die erste Spalte → enthält die Labels (Ziffern 0-9).\n",
    ".values: Wandelt die Pandas-Serie in ein NumPy-Array um.\n",
    ".astype(np.int64): Konvertiert die Labels in 64-Bit Ganzzahlen (int64).\n",
    "'''"
   ]
  },
  {
   "cell_type": "markdown",
   "metadata": {},
   "source": [
    "### One Hot Encoding\n",
    "\n",
    "Warum?\n",
    "\n",
    "One-Hot-Encoding wird genutzt, um **kategorische Variablen** in numerische Form umzuwandeln, sodass ML-Modelle sie verarbeiten können. Es verhindert eine falsche Ordnung und ist essenziell für neuronale Netze.\n",
    "\n",
    "Beispiel:\n",
    "\n",
    "| Obst   | One-Hot-Encoding |\n",
    "|--------|-----------------|\n",
    "| Apfel  | **1  0  0** |\n",
    "| Banane | **0  1  0** |\n",
    "| Kirsche | **0  0  1** |\n",
    "\n",
    "\n",
    "Dummy-Encoding ist ähnlich, aber reduziert die Anzahl der Spalten um 1, um Multikollinearität zu vermeiden.\n",
    "\n",
    "Hier wird eine Kategorie als Referenz weggelassen.\n",
    "\n",
    "Nützlich für lineare Modelle, da eine volle One-Hot-Codierung zu redundanten Informationen führen kann.\n",
    "\n",
    "One-Hot-Encoding → für neuronale Netze & Entscheidungsbäume\n",
    "Dummy-Encoding → für lineare Regression oder Modelle mit Multikollinearitätsproblemen"
   ]
  },
  {
   "cell_type": "code",
   "execution_count": null,
   "metadata": {},
   "outputs": [
    {
     "data": {
      "text/plain": [
       "'\\nsparse_output = False sorgt dafür, dass die Ausgabe ein NumPy-Array ist (statt einer scipy.sparse-Matrix).\\n\\ny wird in eine 2D-Form umgewandelt ((n_samples, 1)), da OneHotEncoder eine Matrix erwartet.\\n\\n- fit() lernt die Kategorien (z. B. 0-9 für MNIST).\\n\\n- transform() wandelt sie in One-Hot-Vektoren um.\\n'"
      ]
     },
     "execution_count": 99,
     "metadata": {},
     "output_type": "execute_result"
    }
   ],
   "source": [
    "# Encoder = ...?\n",
    "y_onehot = encoder.fit_transform(y.reshape(-1, 1))\n",
    "\n",
    "'''\n",
    "sparse_output = False sorgt dafür, dass die Ausgabe ein NumPy-Array ist (statt einer scipy.sparse-Matrix).\n",
    "\n",
    "y wird in eine 2D-Form umgewandelt ((n_samples, 1)), da OneHotEncoder eine Matrix erwartet.\n",
    "\n",
    "- fit() lernt die Kategorien (z. B. 0-9 für MNIST).\n",
    "\n",
    "- transform() wandelt sie in One-Hot-Vektoren um.\n",
    "'''"
   ]
  },
  {
   "cell_type": "code",
   "execution_count": null,
   "metadata": {},
   "outputs": [
    {
     "data": {
      "text/plain": [
       "'\\nTraining und Test:\\ntest_size=0.2: 20% der Daten werden als Testset verwendet.\\nrandom_state=42: Zufällige, aber reproduzierbare Aufteilung.\\n\\nTraining und Validierung:\\nX_train, y_train aus dem vorherigen Schritt werden nochmals aufgeteilt.\\ntest_size=0.2: 20% des ursprünglichen Trainingssets werden als Validierungsset genutzt.\\n'"
      ]
     },
     "execution_count": 100,
     "metadata": {},
     "output_type": "execute_result"
    }
   ],
   "source": [
    "# Splitte die Daten in Training und Test\n",
    "\n",
    "'''\n",
    "Training und Test:\n",
    "test_size=0.2: 20% der Daten werden als Testset verwendet.\n",
    "random_state=42: Zufällige, aber reproduzierbare Aufteilung.\n",
    "\n",
    "Training und Validierung:\n",
    "X_train, y_train aus dem vorherigen Schritt werden nochmals aufgeteilt.\n",
    "test_size=0.2: 20% des ursprünglichen Trainingssets werden als Validierungsset genutzt.\n",
    "'''"
   ]
  },
  {
   "cell_type": "markdown",
   "metadata": {},
   "source": [
    "Trainingsset (X_train, y_train) → Modell trainieren.\n",
    "\n",
    "Validierungsset (X_val, y_val) → Modelloptimierung (z. B. Hyperparameter-Tuning).\n",
    "\n",
    "Testset (X_test, y_test) → Finale Bewertung nach Training."
   ]
  },
  {
   "cell_type": "markdown",
   "metadata": {},
   "source": [
    "## Neurales Netzwerk"
   ]
  },
  {
   "cell_type": "code",
   "execution_count": null,
   "metadata": {},
   "outputs": [],
   "source": [
    "input_size = ???\n",
    "hidden_size_1 = 128\n",
    "hidden_size_2 = 64\n",
    "output_size = ???\n",
    "\n",
    "alpha = 0.001\n",
    "beta1 = 0.9\n",
    "beta2 = 0.999\n",
    "epsilon = 1e-8\n",
    "\n",
    "np.random.seed(42)\n",
    "W1 = np.random.randn(, ???) * np.sqrt(2.0 / ???)\n",
    "b1 = np.zeros((1, ???))\n",
    "W2 = np.random.randn(, ???) * np.sqrt(2.0 / ???)\n",
    "b2 = np.zeros((1, ???))\n",
    "W3 = np.random.randn(???, ???) * np.sqrt(2.0 / ???)\n",
    "b3 = np.zeros((1, ???))\n",
    "\n",
    "moving_avg_W1, moving_var_W1 = np.zeros_like(?), np.zeros_like(?)\n",
    "moving_avg_b1, moving_var_b1 = np.zeros_like(?), np.zeros_like(?)\n",
    "moving_avg_W2, moving_var_W2 = np.zeros_like(?), np.zeros_like(?)\n",
    "moving_avg_b2, moving_var_b2 = np.zeros_like(?), np.zeros_like(?)\n",
    "moving_avg_W3, moving_var_W3 = np.zeros_like(?), np.zeros_like(?)\n",
    "moving_avg_b3, moving_var_b3 = np.zeros_like(?), np.zeros_like(?)\n"
   ]
  },
  {
   "cell_type": "markdown",
   "metadata": {},
   "source": [
    "### Was bedeutet dieser Code\n",
    "\n",
    "- input_size = 784: Jede Eingabe ist ein MNIST-Bild mit 28×28=784 Pixeln, also ein Vektor mit 784 Werten.\n",
    "- hidden_size1 = 128: Erste versteckte Schicht hat 128 Neuronen.\n",
    "- hidden_size2 = 64: Zweite versteckte Schicht hat 64 Neuronen.\n",
    "- output_size = 10: Das Netz gibt 10 Klassen für Ziffern (0-9) aus.\n",
    "\n",
    "- alpha (Lernrate): 0.001 bestimmt, wie stark die Gewichte pro Schritt angepasst werden.\n",
    "- beta1 & beta2: Adam-Parameter zur Berechnung von Momenten (moving averages):\n",
    "- beta1 = 0.9: Exponentielle Gewichtung der ersten Momentenschätzung (Gradientenmittelwert).\n",
    "- beta2 = 0.999: Exponentielle Gewichtung der zweiten Momentenschätzung (Gradientenvarianz).\n",
    "- epsilon = 1e-8: Kleiner Wert, um Division durch Null zu verhindern.\n",
    "\n",
    "- np.random.seed(42): Stellt sicher, dass Zufallszahlen bei jedem Lauf gleich bleiben (Reproduzierbarkeit).\n",
    "- Gewichtsmatrizen W1, W2, W3:\n",
    "  - np.random.randn(...) → Erstellt eine Normalverteilung (Gauß-Verteilung) von Zufallszahlen.\n",
    "  - * np.sqrt(2.0 / n) → Xavier/He-Initialisierung, um den Gradientenfluss zu verbessern:\n",
    "    - np.sqrt(2.0 / input_size): Skalierungsfaktor für stabilere Gradienten während des Trainings.\n",
    "- Bias-Werte b1, b2, b3:\n",
    "- Setzen auf 0, da Bias keine zufälligen Werte benötigt.\n",
    "\n",
    "Warum He-Initialisierung? Verhindert, dass Aktivierungswerte zu groß oder zu klein werden (Problem des verschwindenden oder explodierenden Gradienten).\n",
    "\n",
    "- moving_avg_Wi → Exponentiell gewichtetes Mittel (m_t in Adam) → Schätzt den Durchschnitt des Gradienten.\n",
    "- moving_var_Wi → Exponentiell gewichtete Varianz (v_t in Adam) → Schätzt die Streuung des Gradienten.\n",
    "- Beide werden anfangs auf 0 gesetzt.\n"
   ]
  },
  {
   "cell_type": "code",
   "execution_count": null,
   "metadata": {},
   "outputs": [],
   "source": [
    "# ReLu\n",
    "def relu(Z):\n",
    "    return np.maximum(?, Z)\n",
    "\n",
    "# Softmax\n",
    "def softmax(Z):\n",
    "    exp_Z = np.exp(Z)\n",
    "    return exp_Z / np.sum(exp_Z, axis=1, keepdims=True)\n",
    "\n",
    "# Compute Loss\n",
    "def compute_loss(Y, Y_hat):\n",
    "    return -np.mean(Y * np.log(Y_hat + epsilon))"
   ]
  },
  {
   "cell_type": "code",
   "execution_count": null,
   "metadata": {},
   "outputs": [],
   "source": [
    "def forward_propagation(X):\n",
    "  Z1 = np.dot(X, W1) + ?\n",
    "  A1 = relu(Z1)\n",
    "\n",
    "  Z2 = np.dot(A1, ?) + b2\n",
    "  A2 = relu(Z2)\n",
    "\n",
    "  Z3 = np.dot(?, W3) + b3\n",
    "  A3 = softmax(Z3)\n",
    "\n",
    "  return Z1, A1, Z2, A2, Z3, A3"
   ]
  },
  {
   "cell_type": "code",
   "execution_count": null,
   "metadata": {},
   "outputs": [],
   "source": [
    "def backward_propagation(X, Y, Z1, A1, Z2, A2, Z3, A3):\n",
    "  m = X.shape[0]\n",
    "\n",
    "  dZ3 = A3 - Y\n",
    "  dW3 = np.dot(A2.T, dZ3) / m\n",
    "  db3 = np.sum(dZ3, axis=0, keepdims=True) / m\n",
    "\n",
    "  dA2 = np.dot(dZ3, W3.T)\n",
    "  dZ2 = dA2 * (Z2 > 0)\n",
    "  dW2 = np.dot(A1.T, dZ2) / m\n",
    "  db2 = np.sum(dZ2, axis=0, keepdims=True) / m\n",
    "\n",
    "  dA1 = np.dot(dZ2, W2.T)\n",
    "  dZ1 = dA1 * (Z1 > 0)\n",
    "  dW1 = np.dot(X.T, dZ1) / m\n",
    "  db1 = np.sum(dZ1, axis=0, keepdims=True) / m\n",
    "\n",
    "  return dW1, db1, dW2, db2, dW3, db3"
   ]
  },
  {
   "cell_type": "code",
   "execution_count": 105,
   "metadata": {},
   "outputs": [],
   "source": [
    "def adam_update(time_step, weight_gradient, bias_gradient, moving_avg_weight, moving_var_weight, moving_avg_bias, moving_var_bias):\n",
    "  moving_avg_weight = beta1 * moving_avg_weight + (1 - beta1) * weight_gradient\n",
    "  moving_var_weight = beta2 * moving_var_weight + (1 - beta2) * (weight_gradient ** 2)\n",
    "\n",
    "  moving_avg_bias = beta1 * moving_avg_bias + (1 - beta1) * bias_gradient\n",
    "  moving_var_bias = beta2 * moving_var_bias + (1 - beta2) * (bias_gradient ** 2)\n",
    "\n",
    "  corrected_moving_avg_weight = moving_avg_weight / (1 - beta1 ** time_step)\n",
    "  corrected_moving_var_weight = moving_var_weight / (1 - beta2 ** time_step)\n",
    "\n",
    "  corrected_moving_avg_bias = moving_avg_bias / (1 - beta1 ** time_step)\n",
    "  corrected_moving_var_bias = moving_var_bias / (1 - beta2 ** time_step)\n",
    "\n",
    "  weight_update = alpha * corrected_moving_avg_weight / (np.sqrt(corrected_moving_var_weight) + epsilon)\n",
    "  bias_update = alpha * corrected_moving_avg_bias / (np.sqrt(corrected_moving_var_bias) + epsilon)\n",
    "\n",
    "  return weight_update, bias_update, moving_avg_weight, moving_var_weight, moving_avg_bias, moving_var_bias"
   ]
  },
  {
   "cell_type": "code",
   "execution_count": null,
   "metadata": {},
   "outputs": [
    {
     "name": "stdout",
     "output_type": "stream",
     "text": [
      "Epoch: 1, Loss: 0.0163\n",
      "Epoch: 2, Loss: 0.0120\n",
      "Epoch: 3, Loss: 0.0097\n",
      "Epoch: 4, Loss: 0.0083\n",
      "Epoch: 5, Loss: 0.0072\n",
      "Epoch: 6, Loss: 0.0063\n",
      "Epoch: 7, Loss: 0.0056\n",
      "Epoch: 8, Loss: 0.0050\n",
      "Epoch: 9, Loss: 0.0045\n",
      "Epoch: 10, Loss: 0.0041\n"
     ]
    }
   ],
   "source": [
    "epochs = 10\n",
    "batch_size = 32\n",
    "\n",
    "# Setze die Schleife: For? Do-While? While?\n",
    "  for i in range(0, X_train.shape[0], batch_size):\n",
    "    X_batch = X_train[i:i+batch_size]\n",
    "    y_batch = y_train[i:i+batch_size]\n",
    "\n",
    "    Z1, A1, Z2, A2, Z3, A3 = forward_propagation(X_batch)\n",
    "\n",
    "    dW1, db1, dW2, db2, dW3, db3 = backward_propagation(X_batch, y_batch, Z1, A1, Z2, A2, Z3, A3)\n",
    "\n",
    "    W1_update, b1_update, moving_avg_W1, moving_var_W1, moving_avg_b1, moving_var_b1 = adam_update(epoch + 1, dW1, db1, moving_avg_W1, moving_var_W1, moving_avg_b1, moving_var_b1)\n",
    "\n",
    "    W2_update, b2_update, moving_avg_W2, moving_var_W2, moving_avg_b2, moving_var_b2 = adam_update(epoch + 1, dW2, db2, moving_avg_W2, moving_var_W2, moving_avg_b2, moving_var_b2)\n",
    "\n",
    "    W3_update, b3_update, moving_avg_W3, moving_var_W3, moving_avg_b3, moving_var_b3 = adam_update(epoch + 1, dW3, db3, moving_avg_W3, moving_var_W3, moving_avg_b3, moving_var_b3)\n",
    "\n",
    "    ? -= W1_update\n",
    "    ? -= b1_update\n",
    "    ? -= W2_update\n",
    "    ? -= b2_update\n",
    "    ? -= W3_update\n",
    "    ? -= b3_update\n",
    "\n",
    "  _, _, _, _, _, A3 = forward_propagation(X_train)\n",
    "  loss = compute_loss(y_train, A3)\n",
    "  print(f\"Epoch: {epoch + 1}, Loss: {loss:.4f}\")"
   ]
  },
  {
   "cell_type": "code",
   "execution_count": 107,
   "metadata": {},
   "outputs": [
    {
     "name": "stdout",
     "output_type": "stream",
     "text": [
      "Test Accuracy: 96.75%\n"
     ]
    }
   ],
   "source": [
    "_, _, _, _, _, A3_test = forward_propagation(X_test)\n",
    "predictions = np.argmax(A3_test, axis=1)\n",
    "labels = np.argmax(y_test, axis=1)\n",
    "accuracy = np.mean(predictions == labels)\n",
    "print(f\"Test Accuracy: {accuracy * 100:.2f}%\")"
   ]
  },
  {
   "cell_type": "code",
   "execution_count": null,
   "metadata": {},
   "outputs": [
    {
     "data": {
      "image/png": "[encoded data removed]",
      "text/plain": [
       "<Figure size 1200x600 with 1 Axes>"
      ]
     },
     "metadata": {},
     "output_type": "display_data"
    },
    {
     "data": {
      "image/png": "[encoded data removed]",
      "text/plain": [
       "<Figure size 640x480 with 1 Axes>"
      ]
     },
     "metadata": {},
     "output_type": "display_data"
    },
    {
     "data": {
      "image/png": "[encoded data removed]",
      "text/plain": [
       "<Figure size 640x480 with 1 Axes>"
      ]
     },
     "metadata": {},
     "output_type": "display_data"
    },
    {
     "data": {
      "image/png": "[encoded data removed]",
      "text/plain": [
       "<Figure size 640x480 with 1 Axes>"
      ]
     },
     "metadata": {},
     "output_type": "display_data"
    },
    {
     "data": {
      "image/png": "[encoded data removed]",
      "text/plain": [
       "<Figure size 640x480 with 1 Axes>"
      ]
     },
     "metadata": {},
     "output_type": "display_data"
    },
    {
     "data": {
      "image/png": "[encoded data removed]",
      "text/plain": [
       "<Figure size 640x480 with 1 Axes>"
      ]
     },
     "metadata": {},
     "output_type": "display_data"
    },
    {
     "data": {
      "image/png": "[encoded data removed]",
      "text/plain": [
       "<Figure size 640x480 with 1 Axes>"
      ]
     },
     "metadata": {},
     "output_type": "display_data"
    },
    {
     "data": {
      "image/png": "[encoded data removed]",
      "text/plain": [
       "<Figure size 640x480 with 1 Axes>"
      ]
     },
     "metadata": {},
     "output_type": "display_data"
    },
    {
     "data": {
      "image/png": "[encoded data removed]",
      "text/plain": [
       "<Figure size 640x480 with 1 Axes>"
      ]
     },
     "metadata": {},
     "output_type": "display_data"
    },
    {
     "data": {
      "image/png": "[encoded data removed]",
      "text/plain": [
       "<Figure size 640x480 with 1 Axes>"
      ]
     },
     "metadata": {},
     "output_type": "display_data"
    }
   ],
   "source": [
    "n_images = 10\n",
    "plt.figure(figsize=(12, 6))\n",
    "for i in range(n_images):\n",
    "  plt.subplot(2, n_images, i + 1)\n",
    "  image = X_val[i].reshape(28, 28)\n",
    "\n",
    "  _, _, _, _, _, A3_val = forward_propagation(X_val[i].reshape(1, -1))\n",
    "  predicted_label = np.argmax(A3_val, axis = 1)[0]\n",
    "  true_label = np.argmax(y_val[i])\n",
    "\n",
    "  plt.imshow(image, cmap='')\n",
    "  plt.axis('off')\n",
    "  plt.title(f\"True: {true_label}\\nPred: {predicted_label}\")\n",
    "\n",
    "  plt.tight_layout()\n",
    "  plt.?"
   ]
  }
 ],
 "metadata": {
  "kernelspec": {
   "display_name": "PythonInSports",
   "language": "python",
   "name": "python3"
  },
  "language_info": {
   "codemirror_mode": {
    "name": "ipython",
    "version": 3
   },
   "file_extension": ".py",
   "mimetype": "text/x-python",
   "name": "python",
   "nbconvert_exporter": "python",
   "pygments_lexer": "ipython3",
   "version": "3.11.11"
  }
 },
 "nbformat": 4,
 "nbformat_minor": 2
}
